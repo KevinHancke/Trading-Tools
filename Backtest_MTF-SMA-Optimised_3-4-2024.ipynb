{
 "cells": [
  {
   "cell_type": "markdown",
   "id": "b84f6ed0-91a0-47a6-8754-7b848a42e903",
   "metadata": {},
   "source": [
    "# Define Backtest Logic and Parameters"
   ]
  },
  {
   "cell_type": "code",
   "execution_count": 1,
   "id": "7cdca2c4-0ea6-48e7-b5c8-f044aa329b87",
   "metadata": {},
   "outputs": [],
   "source": [
    "import pandas as pd\n",
    "import pandas_ta as ta\n",
    "import numpy as np\n",
    "import itertools\n",
    "import plotly.graph_objects as go\n",
    "import matplotlib.pyplot as plt\n",
    "from scipy import stats\n",
    "from scipy.optimize import curve_fit\n",
    "import warnings\n",
    "warnings.filterwarnings(\"ignore\", category=FutureWarning)"
   ]
  },
  {
   "cell_type": "code",
   "execution_count": 2,
   "id": "999f6353-3160-4e8a-af32-e61df1d4b120",
   "metadata": {},
   "outputs": [],
   "source": [
    "df = pd.read_csv('Binance_BTCUSDT_1min.csv')\n",
    "df = df.iloc[:,:6]\n",
    "df.columns=['timestamp','open', 'high', 'low', 'close', 'volume']\n",
    "df.reset_index(drop=True, inplace=True)\n",
    "df.timestamp = pd.to_datetime(df.timestamp)\n",
    "df = df.set_index(\"timestamp\")"
   ]
  },
  {
   "cell_type": "code",
   "execution_count": 3,
   "id": "975fd542-7f0f-47ae-8d80-291de1c962e0",
   "metadata": {},
   "outputs": [],
   "source": [
    "def resample_df(df, freq):\n",
    "    resampled_open = df.open.resample(freq).first()\n",
    "    resampled_high = df.high.resample(freq).max()\n",
    "    resampled_low = df.low.resample(freq).min()\n",
    "    resampled_close = df.close.resample(freq).last()\n",
    "    resampled_volume = df.volume.resample(freq).sum()\n",
    "    new_df = pd.concat([resampled_open, resampled_high, resampled_low, resampled_close, resampled_volume], axis=1)\n",
    "    new_df.dropna(inplace=True)\n",
    "    return new_df"
   ]
  },
  {
   "cell_type": "code",
   "execution_count": 4,
   "id": "141ff768-3320-4e21-ab78-a9e7f3c985ae",
   "metadata": {},
   "outputs": [],
   "source": [
    "def calc_price(new_df):\n",
    "    new_df[\"price\"] = new_df.open.shift(-1)"
   ]
  },
  {
   "cell_type": "code",
   "execution_count": 5,
   "id": "0d4afdcf-036e-4538-a444-dcf574bd8cb1",
   "metadata": {},
   "outputs": [],
   "source": [
    "def calc_mtf_ma(new_df, fast_ma_freq, fast_ma_length, slow_ma_freq, slow_ma_length):\n",
    "\n",
    "    fast_ma_df = new_df['close'].resample(fast_ma_freq).last()\n",
    "    slow_ma_df = new_df['close'].resample(slow_ma_freq).last()\n",
    "\n",
    "    new_df['fast_ma'] = fast_ma_df.rolling(fast_ma_length).mean()\n",
    "    new_df['fast_ma'].ffill(inplace=True)\n",
    "    \n",
    "    new_df['slow_ma'] = slow_ma_df.rolling(slow_ma_length).mean()\n",
    "    new_df['slow_ma'].ffill(inplace=True)"
   ]
  },
  {
   "cell_type": "code",
   "execution_count": 6,
   "id": "60214644-b6bf-4751-affe-4a06ea7dc410",
   "metadata": {},
   "outputs": [],
   "source": [
    "def calc_buy_signal(new_df):\n",
    "    new_df['buy_signal'] = np.where((new_df.fast_ma > new_df.slow_ma) & (new_df.close.shift(1) < new_df.fast_ma) & (new_df.close > new_df.fast_ma), True, False)\n",
    "    #new_df['sell_signal'] = np.where((new_df.fast_ma < new_df.slow_ma) & (new_df.close.shift(1) > new_df.fast_ma) & (new_df.close < new_df.fast_ma), True, False)"
   ]
  },
  {
   "cell_type": "code",
   "execution_count": null,
   "id": "7ef0db6e-cafa-48d7-b88b-e16cce0b1dde",
   "metadata": {},
   "outputs": [],
   "source": [
    "'''\n",
    "#prepare df\n",
    "new_df = resample_df(df, \"4H\")\n",
    "calc_mtf_ma(new_df, \"D\", 9 , \"W\", 9)\n",
    "calc_buy_signal(new_df)\n",
    "new_df[new_df.buy_signal == True]\n",
    "'''"
   ]
  },
  {
   "cell_type": "code",
   "execution_count": null,
   "id": "0f3983a4-5b51-4d55-9ae2-3e725d4d5805",
   "metadata": {},
   "outputs": [],
   "source": [
    "'''\n",
    "new_df = resample_df(df, freq)\n",
    "calc_mtf_ma(new_df, fast_ma_freq, fast_ma_length, slow_ma_freq, slow_ma_length)\n",
    "calc_buy_signal(new_df)\n",
    "'''\n"
   ]
  },
  {
   "cell_type": "code",
   "execution_count": null,
   "id": "5d86002c-c38f-4fb8-ae18-a10e7a5e3780",
   "metadata": {},
   "outputs": [],
   "source": [
    "import plotly.graph_objects as go\n",
    "\n",
    "bars = 500\n",
    "cutoff_time = new_df.index[-bars]\n",
    "\n",
    "# Assuming cutoff_time is defined elsewhere in your code\n",
    "cutoff_time = new_df.index[-bars]\n",
    "\n",
    "# Filter the DataFrame based on the cutoff date\n",
    "df_slice = new_df[new_df.index >= cutoff_time]\n",
    "\n",
    "# Create a candlestick chart\n",
    "fig = go.Figure(data=[go.Candlestick(x=df_slice.index,\n",
    "                open=df_slice['open'],\n",
    "                high=df_slice['high'],\n",
    "                low=df_slice['low'],\n",
    "                close=df_slice['close'],\n",
    "                increasing=dict(line=dict(color='green')),  # Change color for increasing candles\n",
    "                decreasing=dict(line=dict(color='red')))])  # Change color for decreasing candles\n",
    "\n",
    "# Add markers for high_range_dev and low_range_dev\n",
    "high_range_dev = df_slice[df_slice['buy_signal'] == True]\n",
    "low_range_dev = df_slice[df_slice['buy_signal'] == True]\n",
    "\n",
    "fig.add_trace(go.Scatter(x=high_range_dev.index,\n",
    "                         y=high_range_dev['high'],\n",
    "                         mode='markers',\n",
    "                         name='Weak resistance',\n",
    "                         marker=dict(color='blue', size=10)))\n",
    "\n",
    "fig.add_trace(go.Scatter(x=low_range_dev.index,\n",
    "                         y=low_range_dev['low'],\n",
    "                         mode='markers',\n",
    "                         name='Strong resistance',\n",
    "                         marker=dict(color='orange', size=10)))\n",
    "\n",
    "# Update layout\n",
    "fig.update_layout(title='Candlestick Chart with Range Deviations',\n",
    "                  xaxis_title='Date',\n",
    "                  yaxis_title='Price',\n",
    "                  width=1200,\n",
    "                  height=900)\n",
    "\n",
    "# Show the figure\n",
    "fig.show()\n"
   ]
  },
  {
   "cell_type": "code",
   "execution_count": null,
   "id": "8a33c058-1821-409f-94fe-70dee3167232",
   "metadata": {},
   "outputs": [],
   "source": [
    "#Prepare DF\n",
    "new_df = resample_df(df, \"2H\")\n",
    "calc_levels(new_df)\n",
    "is_SFP(new_df)\n",
    "get_signal(new_df)\n",
    "new_df.dropna(inplace=True)\n",
    "new_df"
   ]
  },
  {
   "cell_type": "markdown",
   "id": "ff73e303-9e3f-4b8c-bd4f-a0e161847849",
   "metadata": {},
   "source": [
    "# Backtest"
   ]
  },
  {
   "cell_type": "code",
   "execution_count": 7,
   "id": "48e28ee3-105a-4d9b-a44e-de304b4fb079",
   "metadata": {},
   "outputs": [],
   "source": [
    "def backtest(df, freq, fast_ma_freq, fast_ma_length, slow_ma_freq, slow_ma_length, tp, sl):\n",
    "\n",
    "    new_df = resample_df(df, freq)\n",
    "    calc_price(new_df)\n",
    "    calc_mtf_ma(new_df, fast_ma_freq, fast_ma_length, slow_ma_freq, slow_ma_length)\n",
    "    calc_buy_signal(new_df)\n",
    "    new_df.dropna(inplace=True)\n",
    "    \n",
    "    #Error handle for no buy signals\n",
    "    if len(new_df[new_df.buy_signal > 0]) < 1:\n",
    "        empty_result = pd.DataFrame({\n",
    "            \"entry_time\": [0],\n",
    "            \"entry_price\": [0],\n",
    "            \"tp_target\": [0],\n",
    "            \"sl_target\": [0],\n",
    "            \"exit_time\": [0],\n",
    "            \"exit_price\": [0],\n",
    "            \"pnl\": [0],\n",
    "            \"equity\": [0],\n",
    "            \"pnl_perc\": [0]\n",
    "        })\n",
    "        amount = 0\n",
    "        winrate = 0\n",
    "        cum_pnl_perc = 0\n",
    "        max_drawdown = 0\n",
    "        equity_value = 0\n",
    "        return winrate, amount, cum_pnl_perc, max_drawdown, equity_value\n",
    "        return empty_result\n",
    "    \n",
    "    #Initialise Varibles\n",
    "    in_position = False\n",
    "    trades = []\n",
    "    current_trade = {}\n",
    "    initial_equity = 1000\n",
    "    equity = initial_equity\n",
    "            \n",
    "    for i in range(len(new_df)-1):\n",
    "    #Check exit conditions\n",
    "        if in_position:\n",
    "            if new_df.iloc[i].low < current_trade[\"sl_price\"]:\n",
    "                current_trade[\"exit_price\"] = current_trade[\"sl_price\"]\n",
    "                pnl = (current_trade[\"exit_price\"] - current_trade[\"entry_price\"])\n",
    "                pnl_perc = sl - 1\n",
    "                equity = equity + (equity * pnl_perc)\n",
    "                #equity_str = \"{:.2f}\".format(equity)\n",
    "                trades.append({\n",
    "                    \"entry_time\":current_trade[\"entry_time\"],\n",
    "                    \"entry_price\":current_trade[\"entry_price\"],\n",
    "                    \"tp_target\":current_trade[\"tp_price\"],\n",
    "                    \"sl_target\":current_trade[\"sl_price\"],\n",
    "                    \"exit_time\":new_df.iloc[i].name,\n",
    "                    \"exit_price\":current_trade[\"sl_price\"],\n",
    "                    \"pnl\": pnl,\n",
    "                    \"pnl_perc\": pnl_perc,\n",
    "                    \"equity\": equity\n",
    "                })\n",
    "                current_trade = {}\n",
    "                in_position = False\n",
    "\n",
    "            elif new_df.iloc[i].high > current_trade[\"tp_price\"]:\n",
    "                current_trade[\"exit_price\"] = current_trade[\"tp_price\"]\n",
    "                pnl = (current_trade[\"exit_price\"] - current_trade[\"entry_price\"])\n",
    "                pnl_perc = tp - 1\n",
    "                equity = equity + (equity * pnl_perc)\n",
    "                #equity_str = \"{:.2f}\".format(equity)\n",
    "                trades.append({\n",
    "                    \"entry_time\":current_trade[\"entry_time\"],\n",
    "                    \"entry_price\":current_trade[\"entry_price\"],\n",
    "                    \"tp_target\":current_trade[\"tp_price\"],\n",
    "                    \"sl_target\":current_trade[\"sl_price\"],\n",
    "                    \"exit_time\":new_df.iloc[i].name,\n",
    "                    \"exit_price\":current_trade[\"tp_price\"],\n",
    "                    \"pnl\":pnl,\n",
    "                    \"pnl_perc\": pnl_perc,\n",
    "                    \"equity\": equity\n",
    "                })\n",
    "                current_trade = {}\n",
    "                in_position = False\n",
    "\n",
    "        #Check entry conditions\n",
    "        if not in_position:\n",
    "            if new_df.iloc[i].buy_signal == True:\n",
    "                current_trade[\"entry_price\"] = new_df.iloc[i].price\n",
    "                current_trade[\"entry_time\"] = new_df.iloc[i+1].name\n",
    "                current_trade[\"tp_price\"] = new_df.iloc[i].price*tp\n",
    "                current_trade[\"sl_price\"] = new_df.iloc[i].price*sl\n",
    "                #current_trade[\"base_value\"] = trade_amount/new_df.iloc[i].price\n",
    "                #current_trade[\"quote_value\"] = trade_amount\n",
    "                in_position = True\n",
    "                \n",
    "    data = pd.DataFrame(trades)\n",
    "    amount = len(data)\n",
    "    winrate = round(len(data.loc[data.pnl.values>0])/len(data)*100,2)\n",
    "    cum_pnl_perc = round(sum(pd.Series(data.pnl_perc))*100,2)\n",
    "    equity_value = round(data.equity[len(data) - 1], 2)\n",
    "    pnl = round(float(data.equity[len(data) - 1]) - initial_equity,2)\n",
    "    length = data.exit_time[len(data)-1] - data.entry_time[0]\n",
    "    max_drawdown = 100 - data.equity.min()/initial_equity*100\n",
    "    equity_high = round(data.equity.max(),2)\n",
    "    equity_low = round(data.equity.min(),2)\n",
    "    \n",
    "    '''print(f\"Winrate: {winrate}%\")\n",
    "    print(f\"Amount of trades: {amount}\")\n",
    "    print(f\"Culmulative pnl: {cum_pnl_perc}%\")\n",
    "    print(\"\")\n",
    "    print(f\"Max drawdown: {max_drawdown} %\")\n",
    "    print(f\"Equity Max: {equity_high} USD\")\n",
    "    print(f\"Equity Min: {equity_low} USD\")\n",
    "    print(f\"Final equity value: {equity_value} USD\")\n",
    "    print(\"\")\n",
    "    print(f\"Summary: ${pnl} profit made from ${initial_equity} initial in about {length} hours & minutes\")'''\n",
    "    return winrate, amount, cum_pnl_perc, max_drawdown, equity_value\n",
    "    #return data"
   ]
  },
  {
   "cell_type": "code",
   "execution_count": null,
   "id": "c033c91e-3346-4da7-b8cb-4f7d26a5c2c9",
   "metadata": {},
   "outputs": [],
   "source": [
    "#backtest(df, freq, fast_ma_freq, fast_ma_length, slow_ma_freq, slow_ma_length, tp, sl)"
   ]
  },
  {
   "cell_type": "code",
   "execution_count": 8,
   "id": "b0975f7c-7ea0-4dbf-8614-924899c71617",
   "metadata": {},
   "outputs": [
    {
     "name": "stdout",
     "output_type": "stream",
     "text": [
      "Backtest result: (0, 0, 0, 0, 0)\n"
     ]
    }
   ],
   "source": [
    "backtest_result = backtest(df, '4H', \"D\", 9, \"D\", 9, 1.04, 0.97)\n",
    "print(\"Backtest result:\", backtest_result)"
   ]
  },
  {
   "cell_type": "code",
   "execution_count": 9,
   "id": "eed6ccd5-94ec-4a7d-9854-1490b2462969",
   "metadata": {},
   "outputs": [
    {
     "name": "stdout",
     "output_type": "stream",
     "text": [
      "Backtest result: (51.7, 147, 91.0, -1.7677440000000217, 2266.35)\n"
     ]
    }
   ],
   "source": [
    "backtest_result = backtest(df, '4H', \"D\", 9, \"W\", 9, 1.04, 0.97)\n",
    "print(\"Backtest result:\", backtest_result)"
   ]
  },
  {
   "cell_type": "code",
   "execution_count": null,
   "id": "fa2fa6c8-c6ff-4350-b681-7b7e5fa213c5",
   "metadata": {},
   "outputs": [],
   "source": []
  },
  {
   "cell_type": "code",
   "execution_count": null,
   "id": "c092c9f1-0885-4c30-8344-8af56f6e67a2",
   "metadata": {},
   "outputs": [],
   "source": [
    "trades"
   ]
  },
  {
   "cell_type": "markdown",
   "id": "2f8dd1e0-0eb2-453c-a2e3-c32aa8f52149",
   "metadata": {},
   "source": [
    "# Visualise Data"
   ]
  },
  {
   "cell_type": "code",
   "execution_count": null,
   "id": "ba9d5035-7d1e-4fe1-be53-baa10e4f2a1b",
   "metadata": {},
   "outputs": [],
   "source": [
    "new_df = resample_df(df, \"1H\")\n",
    "calc_price(new_df)\n",
    "calc_ma(new_df)\n",
    "calc_rolling_atr(new_df, \"D\")\n",
    "calc_rolling_vol(new_df, \"D\")\n",
    "calc_norm_range(new_df)\n",
    "calc_norm_vol(new_df)\n",
    "vsa_indicator(new_df, \"D\")\n",
    "calc_range_dev(new_df)\n",
    "calc_buy_signal(new_df)\n",
    "new_df.dropna(inplace=True)\n",
    "new_df"
   ]
  },
  {
   "cell_type": "code",
   "execution_count": null,
   "id": "9ff291e9-8d1d-40e2-8921-1e8f78fc1e9d",
   "metadata": {},
   "outputs": [],
   "source": [
    "bars = 1000\n",
    "cutoff_time = new_df.index[-bars]\n",
    "trades_slice = trades[trades['entry_time'] >= cutoff_time]\n",
    "\n",
    "# Create a candlestick chart\n",
    "fig = go.Figure(data=[go.Candlestick(x=new_df.index[-bars:],\n",
    "                open=new_df['open'].tail(bars),\n",
    "                high=new_df['high'].tail(bars),\n",
    "                low=new_df['low'].tail(bars),\n",
    "                close=new_df['close'].tail(bars))])\n",
    "\n",
    "# Add scatter plots for entry and exit points\n",
    "entry_points = dict(x=trades_slice['entry_time'], y=trades_slice['entry_price'], text=['Buy'] * len(trades_slice), mode='markers', name='Entry Points', marker=dict(color='green', size=10))\n",
    "exit_points = dict(x=trades_slice['exit_time'], y=trades_slice['exit_price'], text=['Sell'] * len(trades_slice), mode='markers', name='Exit Points', marker=dict(color='red', size=10))\n",
    "\n",
    "# Add entry and exit points to the figure\n",
    "#fig.add_trace(go.Scatter(x=new_df.index, y=new_df['pdLow'], mode='lines', name='Previous Day Low'))\n",
    "fig.add_trace(go.Scatter(x=new_df.index[-bars:], y=new_df['sma_50'][-bars:], mode='lines', name='ma_50'))  # Apply cutoff to pdLow data\n",
    "fig.add_trace(go.Scatter(entry_points))\n",
    "fig.add_trace(go.Scatter(exit_points))\n",
    "\n",
    "# Update layout\n",
    "fig.update_layout(title='Candlestick Chart with Entry and Exit Points', xaxis_title='Date', yaxis_title='Price', width=1200, height=900)\n",
    "\n",
    "# Show the figure\n",
    "fig.show()\n"
   ]
  },
  {
   "cell_type": "code",
   "execution_count": null,
   "id": "ea710899-dffc-4cd3-9942-a61b9c6105cb",
   "metadata": {},
   "outputs": [],
   "source": [
    "plt.plot(trades.equity)\n",
    "\n",
    "# Adding labels to the x and y axes\n",
    "plt.xlabel('Amount of trades')\n",
    "plt.ylabel('Equity Value')\n",
    "\n",
    "# Display the plot\n",
    "plt.show()"
   ]
  },
  {
   "cell_type": "markdown",
   "id": "3ed78f54-236c-4231-936b-01d39f17fa94",
   "metadata": {},
   "source": [
    "# Optimise"
   ]
  },
  {
   "cell_type": "code",
   "execution_count": null,
   "id": "fb834c6d-ecab-4d9a-bcea-31194d29bde8",
   "metadata": {},
   "outputs": [],
   "source": [
    "#backtest(df, freq, fast_ma_freq, fast_ma_length, slow_ma_freq, slow_ma_length, tp, sl)"
   ]
  },
  {
   "cell_type": "code",
   "execution_count": 13,
   "id": "a3d4c797-d11f-446b-aacf-fc5cc141c2e5",
   "metadata": {},
   "outputs": [],
   "source": [
    "# Define the parameter combinations\n",
    "freq_values = [\"1H\", \"4H\"]\n",
    "fast_ma_freq_values = [\"1H\", \"4H\", \"D\", \"W\"]\n",
    "slow_ma_freq_values = [\"1H\", \"4H\", \"D\", \"W\"]\n",
    "fast_ma_length_values = [10, 20, 50, 100, 200]\n",
    "slow_ma_length_values = [10, 20, 50, 100, 200]\n",
    "tp_values = [1.02, 1.04, 1.06, 1.08, 1.1]\n",
    "sl_values = [0.98, 0.96, 0.94, 0.92, 0.9]"
   ]
  },
  {
   "cell_type": "code",
   "execution_count": null,
   "id": "7b2fc793-bb91-430d-a870-cf3615afed92",
   "metadata": {},
   "outputs": [],
   "source": []
  },
  {
   "cell_type": "code",
   "execution_count": null,
   "id": "586db20b-8c2d-4d83-8732-99898c5b6d08",
   "metadata": {},
   "outputs": [],
   "source": [
    "# Define the test combinations\n",
    "freq_values = [\"4H\"]\n",
    "fast_ma_freq_values = [\"D\", \"W\"]\n",
    "slow_ma_freq_values = [\"D\", \"W\"]\n",
    "fast_ma_length_values = [50, 100]\n",
    "slow_ma_length_values = [50, 100]\n",
    "tp_values = [1.06]\n",
    "sl_values = [0.94]"
   ]
  },
  {
   "cell_type": "code",
   "execution_count": 14,
   "id": "3bb897b1-91cb-45fd-aef0-44d77d8bc0dd",
   "metadata": {},
   "outputs": [],
   "source": [
    "results_df = pd.DataFrame(columns=[\"freq\", \"fast_ma_freq\", \"fast_ma_length\", \"slow_ma_freq\", \"slow_ma_length\", \"tp\", \"sl\", \"winrate\", \"amount\", \"cum_pnl_perc\", \"max_drawdown\", \"equity_value\"])"
   ]
  },
  {
   "cell_type": "code",
   "execution_count": null,
   "id": "460d8055-8523-4fbd-abcd-6c98378285e9",
   "metadata": {},
   "outputs": [],
   "source": [
    "for freq, fast_ma_freq, fast_ma_length, slow_ma_freq, slow_ma_length, tp, sl in itertools.product(freq_values, fast_ma_freq_values, fast_ma_length_values, slow_ma_freq_values, slow_ma_length_values, tp_values, sl_values):\n",
    "    winrate, amount, cum_pnl_perc, max_drawdown, equity_value = backtest(df, freq, fast_ma_freq, fast_ma_length, slow_ma_freq, slow_ma_length, tp, sl)\n",
    "    result = pd.DataFrame([[freq, fast_ma_freq, fast_ma_length, slow_ma_freq, slow_ma_length, tp, sl, winrate, amount, cum_pnl_perc, max_drawdown, equity_value]], columns=[\"freq\", \"fast_ma_freq\", \"fast_ma_length\", \"slow_ma_freq\", \"slow_ma_length\", \"tp\", \"sl\", \"winrate\", \"amount\", \"cum_pnl_perc\", \"max_drawdown\", \"equity_value\"])\n",
    "    try:\n",
    "        # Concatenate the result DataFrame with the existing results_df\n",
    "        results_df = pd.concat([results_df, result], ignore_index=True)\n",
    "    except Exception as e:\n",
    "        # Handle the exception\n",
    "        print(\"An error occurred during concatenation:\", e)\n",
    "        # You can add additional error handling logic here, such as logging the error or performing alternative actions"
   ]
  },
  {
   "cell_type": "code",
   "execution_count": null,
   "id": "84366b1b-fb53-48d7-9341-426cd22f2960",
   "metadata": {},
   "outputs": [],
   "source": [
    "results_df"
   ]
  },
  {
   "cell_type": "code",
   "execution_count": null,
   "id": "c6f98674-5589-461a-a924-f64c79308373",
   "metadata": {},
   "outputs": [],
   "source": [
    "results_df[\"rr\"] = (results_df.tp - 1) / (1 - results_df.sl)\n"
   ]
  },
  {
   "cell_type": "code",
   "execution_count": null,
   "id": "5f8b4f32-ac33-4866-bc4e-a82e746dd791",
   "metadata": {},
   "outputs": [],
   "source": [
    "results_df[\"equity_value\"].max()"
   ]
  }
 ],
 "metadata": {
  "kernelspec": {
   "display_name": "Python 3 (ipykernel)",
   "language": "python",
   "name": "python3"
  },
  "language_info": {
   "codemirror_mode": {
    "name": "ipython",
    "version": 3
   },
   "file_extension": ".py",
   "mimetype": "text/x-python",
   "name": "python",
   "nbconvert_exporter": "python",
   "pygments_lexer": "ipython3",
   "version": "3.11.7"
  }
 },
 "nbformat": 4,
 "nbformat_minor": 5
}
